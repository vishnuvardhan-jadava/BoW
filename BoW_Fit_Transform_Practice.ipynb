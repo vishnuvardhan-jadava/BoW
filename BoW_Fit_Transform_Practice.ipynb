{
  "nbformat": 4,
  "nbformat_minor": 0,
  "metadata": {
    "colab": {
      "name": "BoW_Fit_Transform_Practice.ipynb",
      "provenance": [],
      "authorship_tag": "ABX9TyPyFIErkipuQJVeo2r4Yq8X",
      "include_colab_link": true
    },
    "kernelspec": {
      "name": "python3",
      "display_name": "Python 3"
    },
    "language_info": {
      "name": "python"
    }
  },
  "cells": [
    {
      "cell_type": "markdown",
      "metadata": {
        "id": "view-in-github",
        "colab_type": "text"
      },
      "source": [
        "<a href=\"https://colab.research.google.com/github/vishnuvardhan-jadava/BoW/blob/main/BoW_Fit_Transform_Practice.ipynb\" target=\"_parent\"><img src=\"https://colab.research.google.com/assets/colab-badge.svg\" alt=\"Open In Colab\"/></a>"
      ]
    },
    {
      "cell_type": "code",
      "metadata": {
        "id": "9Q4r4p4sFZwt"
      },
      "source": [
        "#importing libraries\n",
        "import re\n",
        "import pandas as pd\n",
        "import sqlite3\n",
        "from tqdm import tqdm"
      ],
      "execution_count": 24,
      "outputs": []
    },
    {
      "cell_type": "code",
      "metadata": {
        "colab": {
          "base_uri": "https://localhost:8080/"
        },
        "id": "WB1XpyyiFm8F",
        "outputId": "10f91d5c-0199-4ddc-e089-37751c3d2363"
      },
      "source": [
        "from google.colab import drive\n",
        "drive.mount('/content/drive/')"
      ],
      "execution_count": 2,
      "outputs": [
        {
          "output_type": "stream",
          "text": [
            "Mounted at /content/drive/\n"
          ],
          "name": "stdout"
        }
      ]
    },
    {
      "cell_type": "code",
      "metadata": {
        "id": "Z0BRObr9GPOt"
      },
      "source": [
        "con = sqlite3.connect('/content/drive/MyDrive/Dataset/database.sqlite')\n",
        "df = pd.read_sql_query('select * from reviews where score <> 3 limit 10',con)"
      ],
      "execution_count": 4,
      "outputs": []
    },
    {
      "cell_type": "code",
      "metadata": {
        "colab": {
          "base_uri": "https://localhost:8080/"
        },
        "id": "iP4--YyCGa3M",
        "outputId": "13c15cb0-edcd-4682-9895-c4dd89b9c738"
      },
      "source": [
        "df.columns"
      ],
      "execution_count": 6,
      "outputs": [
        {
          "output_type": "execute_result",
          "data": {
            "text/plain": [
              "Index(['Id', 'ProductId', 'UserId', 'ProfileName', 'HelpfulnessNumerator',\n",
              "       'HelpfulnessDenominator', 'Score', 'Time', 'Summary', 'Text'],\n",
              "      dtype='object')"
            ]
          },
          "metadata": {
            "tags": []
          },
          "execution_count": 6
        }
      ]
    },
    {
      "cell_type": "code",
      "metadata": {
        "id": "cCAGq3xxJk9I"
      },
      "source": [
        "# functions to remove html tags, URL, punctuations, words with numbers and more then one space.\n",
        "def clean_html_tags(x):\n",
        "    \"\"\"removes html tags\"\"\"\n",
        "    return re.sub(r'<.*?>',r' ',x)\n",
        "def clean_punctuation(x):\n",
        "    \"\"\"removes punctuations\"\"\"\n",
        "    return re.sub(r'[^a-zA-Z0-9]+',r' ',x)\n",
        "def remove_url(x):\n",
        "    \"\"\"removes URL\"\"\"\n",
        "    return re.sub('http\\S+',r' ',x)\n",
        "def remove_words_with_numbers(x):\n",
        "    \"\"\"removes words with numbers\"\"\"\n",
        "    return re.sub(r'[a-zA-Z]*[0-9]+[a-zA-Z]*',r' ',x)\n",
        "def remove_more_than_one_space(x):\n",
        "    return re.sub(r'[\\s]{2,}',r' ',x)\n",
        "def decontracted(phrase):\n",
        "    \"\"\"converts imformal words to formal\"\"\"\n",
        "    # specific\n",
        "    phrase = re.sub(r\"won't\", \"will not\", phrase)\n",
        "    phrase = re.sub(r\"can\\'t\", \"can not\", phrase)\n",
        "\n",
        "    # general\n",
        "    phrase = re.sub(r\"n\\'t\", \" not\", phrase)\n",
        "    phrase = re.sub(r\"\\'re\", \" are\", phrase)\n",
        "    phrase = re.sub(r\"\\'s\", \" is\", phrase)\n",
        "    phrase = re.sub(r\"\\'d\", \" would\", phrase)\n",
        "    phrase = re.sub(r\"\\'ll\", \" will\", phrase)\n",
        "    phrase = re.sub(r\"\\'t\", \" not\", phrase)\n",
        "    phrase = re.sub(r\"\\'ve\", \" have\", phrase)\n",
        "    phrase = re.sub(r\"\\'m\", \" am\", phrase)\n",
        "    return phrase\n",
        "\n",
        "def clean_text(text):\n",
        "    \"\"\"cleans the given text by removing html tags, URL, punctuations, words with numbers and more then one space\"\"\"\n",
        "    text = decontracted(text)\n",
        "    text = clean_html_tags(text)\n",
        "    text = remove_url(text)\n",
        "    text = clean_punctuation(text)\n",
        "    text = remove_words_with_numbers(text)\n",
        "    text = text.lower()\n",
        "    text=remove_more_than_one_space(text)\n",
        "    return text"
      ],
      "execution_count": 7,
      "outputs": []
    },
    {
      "cell_type": "code",
      "metadata": {
        "id": "I2HflqDwJvB-"
      },
      "source": [
        "df['cleaned_text'] = df['Text'].map(clean_text)"
      ],
      "execution_count": 8,
      "outputs": []
    },
    {
      "cell_type": "code",
      "metadata": {
        "id": "EGvSmzSVJ0X1"
      },
      "source": [
        "def fit(dataset):\n",
        "  uniq_words = set()\n",
        "  if isinstance(dataset,(list)):\n",
        "    for sent in  dataset:\n",
        "      for word in sent.split():\n",
        "        if len(word)<2:\n",
        "          continue\n",
        "        uniq_words.add(word)\n",
        "    uniq_words=sorted(uniq_words)\n",
        "    vocab = {j:i for i,j in enumerate(uniq_words)}\n",
        "    return vocab\n",
        "  else:\n",
        "    return 'pass a list'"
      ],
      "execution_count": 39,
      "outputs": []
    },
    {
      "cell_type": "code",
      "metadata": {
        "id": "3N8V90D-J9gn"
      },
      "source": [
        "vocab = fit(list(df['cleaned_text']))"
      ],
      "execution_count": 23,
      "outputs": []
    },
    {
      "cell_type": "code",
      "metadata": {
        "id": "uI7FYjTtK1LD"
      },
      "source": [
        "from collections import Counter\n",
        "from scipy.sparse import csr_matrix\n",
        "def transform(dataset,vocab):\n",
        "\n",
        "  rows = []\n",
        "  col = []\n",
        "  values = []\n",
        "  if isinstance(dataset,(list)):\n",
        "    for row_idx,row in enumerate(tqdm(dataset)):\n",
        "      word_freq = dict(Counter(row.split()))\n",
        "      for word,freq in word_freq.items():\n",
        "        if len(word)<2:\n",
        "          continue\n",
        "        col_idx = vocab.get(word,-1)\n",
        "        if col_idx != -1:\n",
        "          rows.append(row_idx)\n",
        "          col.append(col_idx)\n",
        "          values.append(freq)\n",
        "    return csr_matrix((values,(rows,col)),shape=(len(dataset),len(vocab))).toarray()\n",
        "  return 'pass a list'"
      ],
      "execution_count": 44,
      "outputs": []
    },
    {
      "cell_type": "code",
      "metadata": {
        "colab": {
          "base_uri": "https://localhost:8080/"
        },
        "id": "KPwjrrrdNHwB",
        "outputId": "e98e93ec-0209-43ca-f246-fc0ee31b6f90"
      },
      "source": [
        "strings = [\"the method of lagrange multipliers is the economists workhorse for solving optimization problems\",\n",
        "           \"the technique is a centerpiece of economic theory but unfortunately its usually taught poorly\"]\n",
        "vocab = fit(strings)\n",
        "print(list(vocab.keys()))\n",
        "print(transform(strings, vocab))"
      ],
      "execution_count": 45,
      "outputs": [
        {
          "output_type": "stream",
          "text": [
            "100%|██████████| 2/2 [00:00<00:00, 7163.63it/s]"
          ],
          "name": "stderr"
        },
        {
          "output_type": "stream",
          "text": [
            "['but', 'centerpiece', 'economic', 'economists', 'for', 'is', 'its', 'lagrange', 'method', 'multipliers', 'of', 'optimization', 'poorly', 'problems', 'solving', 'taught', 'technique', 'the', 'theory', 'unfortunately', 'usually', 'workhorse']\n",
            "[[0 0 0 1 1 1 0 1 1 1 1 1 0 1 1 0 0 2 0 0 0 1]\n",
            " [1 1 1 0 0 1 1 0 0 0 1 0 1 0 0 1 1 1 1 1 1 0]]\n"
          ],
          "name": "stdout"
        },
        {
          "output_type": "stream",
          "text": [
            "\n"
          ],
          "name": "stderr"
        }
      ]
    },
    {
      "cell_type": "code",
      "metadata": {
        "id": "A8b14f1_QznY"
      },
      "source": [
        "from sklearn.feature_extraction.text import CountVectorizer\n",
        "\n",
        "vec = CountVectorizer(analyzer='word')"
      ],
      "execution_count": 49,
      "outputs": []
    },
    {
      "cell_type": "code",
      "metadata": {
        "colab": {
          "base_uri": "https://localhost:8080/"
        },
        "id": "nfYuvuJ6RRHn",
        "outputId": "9656476c-0be5-4ff4-93f0-d58ca9aeb2d8"
      },
      "source": [
        "vec.fit(strings)"
      ],
      "execution_count": 51,
      "outputs": [
        {
          "output_type": "execute_result",
          "data": {
            "text/plain": [
              "CountVectorizer(analyzer='word', binary=False, decode_error='strict',\n",
              "                dtype=<class 'numpy.int64'>, encoding='utf-8', input='content',\n",
              "                lowercase=True, max_df=1.0, max_features=None, min_df=1,\n",
              "                ngram_range=(1, 1), preprocessor=None, stop_words=None,\n",
              "                strip_accents=None, token_pattern='(?u)\\\\b\\\\w\\\\w+\\\\b',\n",
              "                tokenizer=None, vocabulary=None)"
            ]
          },
          "metadata": {
            "tags": []
          },
          "execution_count": 51
        }
      ]
    },
    {
      "cell_type": "code",
      "metadata": {
        "id": "qZ-1oPkLRcQx"
      },
      "source": [
        "trans = vec.transform(strings).toarray()"
      ],
      "execution_count": 52,
      "outputs": []
    },
    {
      "cell_type": "code",
      "metadata": {
        "colab": {
          "base_uri": "https://localhost:8080/"
        },
        "id": "TTCpTMgLRicx",
        "outputId": "35384ac7-659d-4e00-c75e-c9855603549f"
      },
      "source": [
        "trans"
      ],
      "execution_count": 53,
      "outputs": [
        {
          "output_type": "execute_result",
          "data": {
            "text/plain": [
              "array([[0, 0, 0, 1, 1, 1, 0, 1, 1, 1, 1, 1, 0, 1, 1, 0, 0, 2, 0, 0, 0, 1],\n",
              "       [1, 1, 1, 0, 0, 1, 1, 0, 0, 0, 1, 0, 1, 0, 0, 1, 1, 1, 1, 1, 1, 0]])"
            ]
          },
          "metadata": {
            "tags": []
          },
          "execution_count": 53
        }
      ]
    },
    {
      "cell_type": "code",
      "metadata": {
        "id": "wZLNq0-1Rj0Y"
      },
      "source": [
        ""
      ],
      "execution_count": null,
      "outputs": []
    }
  ]
}